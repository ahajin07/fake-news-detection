{
 "cells": [
  {
   "cell_type": "markdown",
   "id": "2f177316-29d5-4795-80b7-b5cbd48ea252",
   "metadata": {},
   "source": [
    "## 1. Importing necessary packages"
   ]
  },
  {
   "cell_type": "code",
   "execution_count": 1,
   "id": "d6c82711-748c-48ca-b427-502d6791a660",
   "metadata": {},
   "outputs": [],
   "source": [
    "import numpy as np \n",
    "import pandas as pd\n",
    "import itertools    # memory-efficient tools for working with iterators\n",
    "\n",
    "from nltk.corpus import stopwords\n",
    "from nltk.stem.porter import PorterStemmer\n",
    "from nltk.stem import SnowballStemmer\n",
    "import re\n",
    "\n",
    "from sklearn.model_selection import train_test_split\n",
    "from sklearn.feature_extraction.text import TfidfVectorizer\n",
    "from sklearn.linear_model import PassiveAggressiveClassifier\n",
    "from sklearn.tree import DecisionTreeClassifier\n",
    "from sklearn.metrics import accuracy_score, confusion_matrix\n",
    "\n",
    "import pickle"
   ]
  },
  {
   "cell_type": "markdown",
   "id": "c84e50c5-9c37-46d2-bd75-9cde3b1debef",
   "metadata": {},
   "source": [
    "## 2. Load the data into a DataFrame"
   ]
  },
  {
   "cell_type": "code",
   "execution_count": 3,
   "id": "90aca7ef-94f5-4a0f-865c-49858dd5906c",
   "metadata": {},
   "outputs": [
    {
     "data": {
      "text/html": [
       "<div>\n",
       "<style scoped>\n",
       "    .dataframe tbody tr th:only-of-type {\n",
       "        vertical-align: middle;\n",
       "    }\n",
       "\n",
       "    .dataframe tbody tr th {\n",
       "        vertical-align: top;\n",
       "    }\n",
       "\n",
       "    .dataframe thead th {\n",
       "        text-align: right;\n",
       "    }\n",
       "</style>\n",
       "<table border=\"1\" class=\"dataframe\">\n",
       "  <thead>\n",
       "    <tr style=\"text-align: right;\">\n",
       "      <th></th>\n",
       "      <th>Unnamed: 0</th>\n",
       "      <th>title</th>\n",
       "      <th>text</th>\n",
       "      <th>label</th>\n",
       "    </tr>\n",
       "  </thead>\n",
       "  <tbody>\n",
       "    <tr>\n",
       "      <th>0</th>\n",
       "      <td>8476</td>\n",
       "      <td>You Can Smell Hillary’s Fear</td>\n",
       "      <td>Daniel Greenfield, a Shillman Journalism Fello...</td>\n",
       "      <td>FAKE</td>\n",
       "    </tr>\n",
       "    <tr>\n",
       "      <th>1</th>\n",
       "      <td>10294</td>\n",
       "      <td>Watch The Exact Moment Paul Ryan Committed Pol...</td>\n",
       "      <td>Google Pinterest Digg Linkedin Reddit Stumbleu...</td>\n",
       "      <td>FAKE</td>\n",
       "    </tr>\n",
       "    <tr>\n",
       "      <th>2</th>\n",
       "      <td>3608</td>\n",
       "      <td>Kerry to go to Paris in gesture of sympathy</td>\n",
       "      <td>U.S. Secretary of State John F. Kerry said Mon...</td>\n",
       "      <td>REAL</td>\n",
       "    </tr>\n",
       "    <tr>\n",
       "      <th>3</th>\n",
       "      <td>10142</td>\n",
       "      <td>Bernie supporters on Twitter erupt in anger ag...</td>\n",
       "      <td>— Kaydee King (@KaydeeKing) November 9, 2016 T...</td>\n",
       "      <td>FAKE</td>\n",
       "    </tr>\n",
       "    <tr>\n",
       "      <th>4</th>\n",
       "      <td>875</td>\n",
       "      <td>The Battle of New York: Why This Primary Matters</td>\n",
       "      <td>It's primary day in New York and front-runners...</td>\n",
       "      <td>REAL</td>\n",
       "    </tr>\n",
       "  </tbody>\n",
       "</table>\n",
       "</div>"
      ],
      "text/plain": [
       "   Unnamed: 0                                              title  \\\n",
       "0        8476                       You Can Smell Hillary’s Fear   \n",
       "1       10294  Watch The Exact Moment Paul Ryan Committed Pol...   \n",
       "2        3608        Kerry to go to Paris in gesture of sympathy   \n",
       "3       10142  Bernie supporters on Twitter erupt in anger ag...   \n",
       "4         875   The Battle of New York: Why This Primary Matters   \n",
       "\n",
       "                                                text label  \n",
       "0  Daniel Greenfield, a Shillman Journalism Fello...  FAKE  \n",
       "1  Google Pinterest Digg Linkedin Reddit Stumbleu...  FAKE  \n",
       "2  U.S. Secretary of State John F. Kerry said Mon...  REAL  \n",
       "3  — Kaydee King (@KaydeeKing) November 9, 2016 T...  FAKE  \n",
       "4  It's primary day in New York and front-runners...  REAL  "
      ]
     },
     "execution_count": 3,
     "metadata": {},
     "output_type": "execute_result"
    }
   ],
   "source": [
    "# Read the data into a Dataframe\n",
    "df = pd.read_csv('news.csv')\n",
    "df.head()"
   ]
  },
  {
   "cell_type": "code",
   "execution_count": 5,
   "id": "18b516d1-6bdb-4845-b50d-09d418031db4",
   "metadata": {},
   "outputs": [
    {
     "data": {
      "text/plain": [
       "(6335, 4)"
      ]
     },
     "execution_count": 5,
     "metadata": {},
     "output_type": "execute_result"
    }
   ],
   "source": [
    "df.shape"
   ]
  },
  {
   "cell_type": "code",
   "execution_count": 7,
   "id": "4279fb43-d5c5-4672-878b-05956a4a0843",
   "metadata": {},
   "outputs": [
    {
     "name": "stdout",
     "output_type": "stream",
     "text": [
      "<class 'pandas.core.frame.DataFrame'>\n",
      "RangeIndex: 6335 entries, 0 to 6334\n",
      "Data columns (total 4 columns):\n",
      " #   Column      Non-Null Count  Dtype \n",
      "---  ------      --------------  ----- \n",
      " 0   Unnamed: 0  6335 non-null   int64 \n",
      " 1   title       6335 non-null   object\n",
      " 2   text        6335 non-null   object\n",
      " 3   label       6335 non-null   object\n",
      "dtypes: int64(1), object(3)\n",
      "memory usage: 198.1+ KB\n"
     ]
    }
   ],
   "source": [
    "df.info()"
   ]
  },
  {
   "cell_type": "code",
   "execution_count": 62,
   "id": "fc38e657-2479-4b1d-959a-20f1199f875b",
   "metadata": {},
   "outputs": [
    {
     "data": {
      "text/plain": [
       "'cedar rapid iowa one wonder ralli entir career right bill clinton said way open crowd saturday night two day iowa caucus cedar rapid tri deliv old feel wife hillari clinton crowd one woman held sign said year men turn carri sign book other travel far missouri wait hour even fire marshal told room insid high school gymnasium restiv crowd chant slogan buzz anticip final bill hillari chelsea clinton appear stage hand hand hour behind schedul roar hillari clinton beam long slog iowa clinton campaign struggl mightili shake label support muster enthusiasm rival backer caucus near help former presid energi level event notabl dial charismat speaker said cigi ross general say bigger draw peopl monday night put campaign month work test campaign organ bring support candid energ voter clinton seem draw higher usual energi stood center deliv confid close statement need plan commit clinton said top voic yes thank clinton finish eight year later clinton iowa face could nail bite conclus hard fought campaign clinton acknowledg campaign chang sinc devast loss last run chang improv told cnn saturday think differ perhap better candid hope also show clinton said interview network morn day ago iowa seem slip grasp campaign aid feel confid slew posit news endors latest poll des moin regist bloomberg news indic bleed least slow poll consid gold standard iowa gave clinton slim lead rival vermont sen berni sander democrat wari polit dynasti show spot someon audienc carri chelsea clinton book father remark thank young woman hold book bill clinton spent day crisscross state wife behalf settl easili role booster chief lay polici leav wife focus instead know job certain almost intang qualiti determin whether presid succeed clinton said voic raspi even low need sticker sticker someon quit best ever known ad'"
      ]
     },
     "execution_count": 62,
     "metadata": {},
     "output_type": "execute_result"
    }
   ],
   "source": [
    "# Extract the `text` column\n",
    "df.text[10]"
   ]
  },
  {
   "cell_type": "markdown",
   "id": "4ba739b2-47cb-45e8-b05a-3d89125cfeba",
   "metadata": {},
   "source": [
    "## Applying a Stemmer to text data"
   ]
  },
  {
   "cell_type": "code",
   "execution_count": 12,
   "id": "b7ec50c1-01b2-4f62-9cbb-582fb86e52da",
   "metadata": {},
   "outputs": [
    {
     "name": "stdout",
     "output_type": "stream",
     "text": [
      "['fake', 'news', 'is', 'a', 'type', 'of', 'yellow', 'journal', 'or', 'propaganda', 'that', 'consist', 'of', 'deliber', 'misinform', 'or', 'hoax', 'spread', 'via', 'tradit', 'news', 'media', 'or', 'onlin', 'social', 'media.']\n"
     ]
    }
   ],
   "source": [
    "# Initialize the Snowball stemmer for english\n",
    "stemmer = SnowballStemmer(\"english\")\n",
    "\n",
    "# sample text\n",
    "text = ['Fake news is a type of yellow journalism or propaganda that consists of deliberate misinformation or hoaxes spread via traditional news media or online social media.']\n",
    "\n",
    "# Tokenize the text\n",
    "words = text[0].split()\n",
    "stems = [stemmer.stem(word) for word in words]\n",
    "print(stems)"
   ]
  },
  {
   "cell_type": "code",
   "execution_count": 14,
   "id": "454dc2bd-493f-43d4-9bca-7e1ee2624057",
   "metadata": {},
   "outputs": [],
   "source": [
    "# The stemmer on the text data\n",
    "def stemming(content):\n",
    "    con = re.sub('[^a-zA-Z]', ' ', content)\n",
    "    con = con.lower()\n",
    "    con = con.split()\n",
    "    # Apply the Snowball stemmer and filter out the stopwords\n",
    "    con = [stemmer.stem(word) for word in con if not word in stopwords.words('english')]\n",
    "    stems = ' '.join(con)\n",
    "\n",
    "    return stems"
   ]
  },
  {
   "cell_type": "code",
   "execution_count": 16,
   "id": "c913809c-d06b-49db-92b3-140b895ae9cf",
   "metadata": {},
   "outputs": [
    {
     "data": {
      "text/plain": [
       "'daniel greenfield shillman journal fellow freedom center new york writer focus radic islam'"
      ]
     },
     "execution_count": 16,
     "metadata": {},
     "output_type": "execute_result"
    }
   ],
   "source": [
    "stemming('Daniel Greenfield, a Shillman Journalism Fellow at the Freedom Center, is a New York writer focusing on radical Islam.')"
   ]
  },
  {
   "cell_type": "code",
   "execution_count": 18,
   "id": "705712a1-e87f-41d2-8ae2-e8cf161eb1df",
   "metadata": {},
   "outputs": [],
   "source": [
    "# Apply the stemmer on the text column in dataset\n",
    "df['text'] = df['text'].apply(stemming)"
   ]
  },
  {
   "cell_type": "code",
   "execution_count": 19,
   "id": "ed8007aa-4697-4b6b-869c-a4f57a6b58bb",
   "metadata": {},
   "outputs": [
    {
     "data": {
      "text/plain": [
       "0       daniel greenfield shillman journal fellow free...\n",
       "1       googl pinterest digg linkedin reddit stumbleup...\n",
       "2       u secretari state john f kerri said monday sto...\n",
       "3       kayde king kaydeek novemb lesson tonight dem l...\n",
       "4       primari day new york front runner hillari clin...\n",
       "                              ...                        \n",
       "6330    state depart told republican nation committe c...\n",
       "6331    p pbs stand plutocrat pentagon post oct wikime...\n",
       "6332    anti trump protest tool oligarchi reform alway...\n",
       "6333    addi ababa ethiopia presid obama conven meet l...\n",
       "6334    jeb bush sudden attack trump matter jeb bush p...\n",
       "Name: text, Length: 6335, dtype: object"
      ]
     },
     "execution_count": 19,
     "metadata": {},
     "output_type": "execute_result"
    }
   ],
   "source": [
    "df['text']"
   ]
  },
  {
   "cell_type": "markdown",
   "id": "3640a5cb-521a-459b-9cc5-8de75c28f773",
   "metadata": {},
   "source": [
    "### Get the labels from the DataFrame"
   ]
  },
  {
   "cell_type": "code",
   "execution_count": 22,
   "id": "c2704b72-0048-40df-b7cc-5d9eb3e38c5c",
   "metadata": {},
   "outputs": [
    {
     "data": {
      "text/plain": [
       "0    FAKE\n",
       "1    FAKE\n",
       "2    REAL\n",
       "3    FAKE\n",
       "4    REAL\n",
       "Name: label, dtype: object"
      ]
     },
     "execution_count": 22,
     "metadata": {},
     "output_type": "execute_result"
    }
   ],
   "source": [
    "# Get labels\n",
    "labels = df.label\n",
    "labels.head()"
   ]
  },
  {
   "cell_type": "code",
   "execution_count": 230,
   "id": "275ed91e-d2df-4538-8247-63ee5d0dd5b5",
   "metadata": {},
   "outputs": [
    {
     "name": "stdout",
     "output_type": "stream",
     "text": [
      "<class 'pandas.core.series.Series'>\n",
      "RangeIndex: 6335 entries, 0 to 6334\n",
      "Series name: label\n",
      "Non-Null Count  Dtype\n",
      "--------------  -----\n",
      "6335 non-null   int64\n",
      "dtypes: int64(1)\n",
      "memory usage: 49.6 KB\n"
     ]
    }
   ],
   "source": [
    "#labels = labels.map({'FAKE': 0, 'REAL': 1}) \n",
    "#labels.info()"
   ]
  },
  {
   "cell_type": "markdown",
   "id": "1d46ac67-638f-44ef-afb9-e7f9e36d6378",
   "metadata": {},
   "source": [
    "## 3. Split the dataset into training and testing sets"
   ]
  },
  {
   "cell_type": "code",
   "execution_count": 24,
   "id": "e8f84e81-7c25-4b82-ab87-841bfb67102e",
   "metadata": {},
   "outputs": [],
   "source": [
    "# Split the dataset\n",
    "X_train, X_test, y_train, y_test = train_test_split(df['text'], labels, test_size=0.2, random_state=7)"
   ]
  },
  {
   "cell_type": "code",
   "execution_count": 234,
   "id": "a2f99d4c-3fea-4a14-a05c-629c253f8fea",
   "metadata": {},
   "outputs": [],
   "source": [
    "# Join the tokens back into single strings\n",
    "#X_train = [' '.join(doc) for doc in X_train]\n",
    "#X_test = [' '.join(doc) for doc in X_test]"
   ]
  },
  {
   "cell_type": "code",
   "execution_count": 26,
   "id": "64ad7747-1822-49c4-b35a-1cf71f5b1ff1",
   "metadata": {},
   "outputs": [
    {
     "data": {
      "text/plain": [
       "6237    head lead survivalist group made sever shock a...\n",
       "3722    arnaldo rodger train educ psychologist work co...\n",
       "5774    patti sanchez use eat calori day weigh kilogra...\n",
       "336     benjamin netanyahu reelect regard apathi mani ...\n",
       "3622    john kasich kill iowa voter banter larri coral...\n",
       "                              ...                        \n",
       "5699                                                     \n",
       "2550    american elect wealthi presid polit expert say...\n",
       "537     anyon write sentenc like nevertheless fuel per...\n",
       "1220    cathol congress ever posit power howev pope fr...\n",
       "4271    host cnn present bombast stupid almost condesc...\n",
       "Name: text, Length: 5068, dtype: object"
      ]
     },
     "execution_count": 26,
     "metadata": {},
     "output_type": "execute_result"
    }
   ],
   "source": [
    "X_train"
   ]
  },
  {
   "cell_type": "markdown",
   "id": "db49e71f-7766-4757-97b1-0aec5d52e342",
   "metadata": {},
   "source": [
    "## 4. Feature Engineering on text data"
   ]
  },
  {
   "cell_type": "code",
   "execution_count": 28,
   "id": "328c90f8-f1c1-4de1-b962-991eed398088",
   "metadata": {},
   "outputs": [],
   "source": [
    "# Initialize a TfidfVectorizer\n",
    "tfidf_vectorizer = TfidfVectorizer(stop_words='english', max_df=0.7)\n",
    "\n",
    "# Fit and transform train and test set\n",
    "tfidf_train = tfidf_vectorizer.fit_transform(X_train)\n",
    "tfidf_test = tfidf_vectorizer.transform(X_test)"
   ]
  },
  {
   "cell_type": "markdown",
   "id": "1310ed0f-2f47-41f1-a689-e01c786e1e08",
   "metadata": {},
   "source": [
    "## 5. Model Training"
   ]
  },
  {
   "cell_type": "code",
   "execution_count": 30,
   "id": "e4d4fbbb-6a6b-4431-8840-ead7150a4af5",
   "metadata": {},
   "outputs": [],
   "source": [
    "# Initialize a PassiveAggressiveClassifier\n",
    "pac = PassiveAggressiveClassifier(max_iter=50)\n",
    "pac.fit(tfidf_train, y_train)\n",
    "\n",
    "# Predict on the test set\n",
    "y_pred = pac.predict(tfidf_test)"
   ]
  },
  {
   "cell_type": "code",
   "execution_count": 32,
   "id": "8cabac39-9cbc-4efb-bd3a-a3a0ba636362",
   "metadata": {},
   "outputs": [
    {
     "data": {
      "text/plain": [
       "array(['REAL', 'FAKE', 'REAL', ..., 'REAL', 'FAKE', 'REAL'], dtype='<U4')"
      ]
     },
     "execution_count": 32,
     "metadata": {},
     "output_type": "execute_result"
    }
   ],
   "source": [
    "y_pred"
   ]
  },
  {
   "cell_type": "markdown",
   "id": "a382acbe-6022-4941-952a-500fae5600c2",
   "metadata": {},
   "source": [
    "## 6. Evaluate the Model"
   ]
  },
  {
   "cell_type": "code",
   "execution_count": 34,
   "id": "86b8d2c7-4f59-409e-ae6e-4e4a483f3a5d",
   "metadata": {},
   "outputs": [
    {
     "name": "stdout",
     "output_type": "stream",
     "text": [
      "Accuracy score: 92.34%\n"
     ]
    }
   ],
   "source": [
    "score = accuracy_score(y_test, y_pred)\n",
    "print(f\"Accuracy score: {round(score*100, 2)}%\")"
   ]
  },
  {
   "cell_type": "code",
   "execution_count": 40,
   "id": "f6f071eb-f462-4285-bfcf-c1b001a4d32a",
   "metadata": {},
   "outputs": [
    {
     "data": {
      "text/plain": [
       "array([[585,  53],\n",
       "       [ 44, 585]])"
      ]
     },
     "execution_count": 40,
     "metadata": {},
     "output_type": "execute_result"
    }
   ],
   "source": [
    "# Bulid a confusion matrix to evaluate the model\n",
    "confusion_matrix = confusion_matrix(y_test, y_pred, labels=['FAKE', 'REAL'])\n",
    "confusion_matrix"
   ]
  },
  {
   "cell_type": "code",
   "execution_count": null,
   "id": "6cea8b07-c6d0-49be-bbda-199c07eab4fc",
   "metadata": {},
   "outputs": [],
   "source": []
  },
  {
   "cell_type": "markdown",
   "id": "18a331b5-2904-4c76-81b6-a98b0147ee44",
   "metadata": {},
   "source": [
    "## Save the Models"
   ]
  },
  {
   "cell_type": "code",
   "execution_count": 42,
   "id": "5c3c1df9-20a1-4af9-af6f-a6ffe79212d6",
   "metadata": {},
   "outputs": [],
   "source": [
    "pickle.dump(tfidf_vectorizer, open('vector.pkl', 'wb'))\n",
    "pickle.dump(pac, open('pac_model.pkl', 'wb'))"
   ]
  },
  {
   "cell_type": "code",
   "execution_count": 44,
   "id": "f29233dd-26ea-4374-8381-ca87fc6e9ecb",
   "metadata": {},
   "outputs": [],
   "source": [
    "# Check the model and vector if they work\n",
    "load_model = pickle.load(open('pac_model.pkl', 'rb'))\n",
    "vector_load = pickle.load(open('vector.pkl', 'rb'))"
   ]
  },
  {
   "cell_type": "code",
   "execution_count": 46,
   "id": "9196f674-e94b-43bf-a1c7-462ffdb6ab37",
   "metadata": {},
   "outputs": [],
   "source": [
    "def fake_news_detect(news):\n",
    "    news = stemming(news)\n",
    "    input_data = [news]\n",
    "    vector_form1 = vector_load.transform(input_data)\n",
    "    prediction = load_model.predict(vector_form1)\n",
    "    return prediction"
   ]
  },
  {
   "cell_type": "code",
   "execution_count": 58,
   "id": "6faa1c87-6960-4400-a3cd-232e62dedf92",
   "metadata": {},
   "outputs": [
    {
     "data": {
      "text/plain": [
       "array(['FAKE'], dtype='<U4')"
      ]
     },
     "execution_count": 58,
     "metadata": {},
     "output_type": "execute_result"
    }
   ],
   "source": [
    "# Test the models\n",
    "value = fake_news_detect(\"\"\"kayde king kaydeek novemb lesson tonight dem loss time democrat start listen voter stop run establish candid peopl berni peopl berni novemb dem want tight race work berni walker bragman walkerbragman novemb new york time columnist paul krugman one hillari clinton outspoken surrog contenti democrat primari blame clinton poor perform green parti candid jill stein far receiv neglig number vote nation say stein ralph nader prevent clinton victori account berniesteach threw krugman analysi back face candid issu take respons https co khyouusrf teacher berni berniesteach novemb ana navarro republican recent endors hillari clinton sum preposter natur presidenti elect tweet gop nomin damn candid could lose hillari clinton democrat nomin damn candid could lose trump ana navarro ananavarro novemb popular left wing facebook page pro sander primari respond trump surg simpli post meme sander face text could avoid thank noth dnc meme share almost time less hour post tuesday novemb berni sander endors hillari clinton democrat nation convent juli mani support remain adam refus support dnc anoint candid point wikileak revel top offici dnc work behind scene tip scale clinton favor coordin media figur circul anti sander narrat rather attribut potenti trump presid gop nomine perceiv popular among voter close elect could credit hillari clinton unfavor rate accord realclearpolit anywher percent voter negat opinion democrat nomine pm eastern florida michigan pennsylvania wisconsin remain close call clinton elector vote trump zach cartwright activist author richmond virginia enjoy write polit govern media send email email protect\"\"\")\n",
    "value"
   ]
  },
  {
   "cell_type": "code",
   "execution_count": 60,
   "id": "e321a99a-a692-43f8-98f3-daa05a182b39",
   "metadata": {},
   "outputs": [
    {
     "name": "stdout",
     "output_type": "stream",
     "text": [
      "Fake news\n"
     ]
    }
   ],
   "source": [
    "if value == 'FAKE':\n",
    "    print('Fake news')\n",
    "else:\n",
    "    print('Real news')"
   ]
  },
  {
   "cell_type": "code",
   "execution_count": null,
   "id": "77ebe187-790f-410d-ae9f-d76a8efcfb1d",
   "metadata": {},
   "outputs": [],
   "source": []
  }
 ],
 "metadata": {
  "kernelspec": {
   "display_name": "Python 3 (ipykernel)",
   "language": "python",
   "name": "python3"
  },
  "language_info": {
   "codemirror_mode": {
    "name": "ipython",
    "version": 3
   },
   "file_extension": ".py",
   "mimetype": "text/x-python",
   "name": "python",
   "nbconvert_exporter": "python",
   "pygments_lexer": "ipython3",
   "version": "3.11.5"
  }
 },
 "nbformat": 4,
 "nbformat_minor": 5
}
